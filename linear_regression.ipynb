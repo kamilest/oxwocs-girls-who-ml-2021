{
  "nbformat": 4,
  "nbformat_minor": 0,
  "metadata": {
    "colab": {
      "name": "linear_regression.ipynb",
      "provenance": [],
      "collapsed_sections": [
        "1AcihReFcgPO"
      ],
      "toc_visible": true,
      "include_colab_link": true
    },
    "kernelspec": {
      "name": "python3",
      "display_name": "Python 3"
    }
  },
  "cells": [
    {
      "cell_type": "markdown",
      "metadata": {
        "id": "view-in-github",
        "colab_type": "text"
      },
      "source": [
        "<a href=\"https://colab.research.google.com/github/kamilest/oxwocs-girls-who-ml-2021/blob/main/linear_regression.ipynb\" target=\"_parent\"><img src=\"https://colab.research.google.com/assets/colab-badge.svg\" alt=\"Open In Colab\"/></a>"
      ]
    },
    {
      "cell_type": "markdown",
      "metadata": {
        "id": "-RpYGnqwYUv2"
      },
      "source": [
        "# Girls Who ML Session 1: Linear regression"
      ]
    },
    {
      "cell_type": "code",
      "metadata": {
        "id": "0wg1F8fGFnJO"
      },
      "source": [
        "import numpy as np\n",
        "import pandas as pd\n",
        "import sklearn \n",
        "\n",
        "import matplotlib.pyplot as plt"
      ],
      "execution_count": 1,
      "outputs": []
    },
    {
      "cell_type": "code",
      "metadata": {
        "id": "jWbYWatzQf5X"
      },
      "source": [
        "#@title Helper functions\n",
        "\n",
        "def plot_iris_dataset(a=None, b=None, model=None, residuals=False, savefig=False, figname=None):\n",
        "  plt.scatter(iris_data.data, iris_data.target, zorder=0)\n",
        "  \n",
        "  x = np.linspace(0, 8, 100).reshape(-1, 1)\n",
        "  if model:\n",
        "    plt.plot(x, model.predict(x), c='orange', zorder=0)\n",
        "  elif a is not None and b is not None:\n",
        "    plt.plot(x, a * x + b, c='orange', zorder=0)\n",
        "  \n",
        "  if residuals:\n",
        "    X = iris_data.data.reshape(-1, 1)\n",
        "    y = iris_data.target\n",
        "    if model:\n",
        "      y_pred = model.predict(X)\n",
        "    elif a is not None and b is not None:\n",
        "      y_pred = a * X + b\n",
        "    plt.vlines(X, y, y_pred, colors='red', zorder=1)\n",
        "  \n",
        "  plt.xlabel(\"petal length (cm)\")\n",
        "  plt.ylabel(\"petal width (cm)\")\n",
        "  plt.xlim([-0.25, 8.25])\n",
        "  plt.ylim([-0.25, 2.75])\n",
        "\n",
        "  if savefig:\n",
        "    plt.savefig('{}.png'.format(figname if figname else 'figure'), dpi=600)\n",
        "\n",
        "  plt.show()\n",
        "\n",
        "def plot_iris_dataset_with_line(a, b, residuals=False):\n",
        "  plot_iris_dataset(a=a, b=b, residuals=residuals)"
      ],
      "execution_count": 73,
      "outputs": []
    },
    {
      "cell_type": "markdown",
      "metadata": {
        "id": "Dq70_ID_jCBq"
      },
      "source": [
        "# Introduction\n",
        "\n",
        "In the first class we will be learning about one of the simplest (yet still one of the most important) machine learning algorithms called **linear regression**, which is used for linear models.\n",
        "\n",
        "## Simple linear model\n",
        "\n",
        "In a linear model, we assume that the dependent variable (aka the response variable, target, or label) we want to predict can be obtained through a *linear transformation* of the independent variables (aka predictor variables, covariates, or features).\n",
        "\n",
        "When we have only one feature, the linear model reduces to the equation of a line, which we are all familiar with:\n",
        "\n",
        "$$y = ax + b$$\n",
        "\n",
        "Here the feature is denoted by $x$, and the label by $y$, and $(a, b)$ are the *parameters* of the model.\n",
        "\n",
        "The goal of the *linear regression* method, then, is to obtain the coefficients $(a, b)$ that best model the data (our features and labels). We explore how this is done in detail through an example below."
      ]
    },
    {
      "cell_type": "markdown",
      "metadata": {
        "id": "U_l1SNmKjJkB"
      },
      "source": [
        "# The dataset\n",
        "\n",
        "We will be using a subset of the [iris dataset](https://en.wikipedia.org/wiki/Iris_flower_data_set) with just 15 points, predicting the petal width from petal length of iris flowers.\n",
        "\n",
        "Here is some code to load the dataset—we extract the petal widths into an array called `petal_width` and petal lengths into `petal_length` (don't worry about the details of the remaining code). "
      ]
    },
    {
      "cell_type": "code",
      "metadata": {
        "id": "WXxdH17IZCDY"
      },
      "source": [
        "from sklearn.utils import Bunch\n",
        "from sklearn.datasets import load_iris\n",
        "\n",
        "dataset = load_iris()\n",
        "sample = [ 57, 122, 118,  53, 117,  81,  70, 142,  84,  16, 103,  82,  66, 31,  83]\n",
        "\n",
        "petal_length = np.take(dataset.data[:, 2], sample)\n",
        "petal_width = np.take(dataset.data[:, 3], sample)\n",
        "iris_data = Bunch(data=petal_length, target=petal_width)"
      ],
      "execution_count": 66,
      "outputs": []
    },
    {
      "cell_type": "markdown",
      "metadata": {
        "id": "x67WSvQ4pwGN"
      },
      "source": [
        "We can print the values of our feature variable for all data points:"
      ]
    },
    {
      "cell_type": "code",
      "metadata": {
        "colab": {
          "base_uri": "https://localhost:8080/"
        },
        "id": "WwEJyDH0t4VA",
        "outputId": "52cce1a7-0e62-474e-d7e6-e52970388abb"
      },
      "source": [
        "petal_length"
      ],
      "execution_count": 60,
      "outputs": [
        {
          "output_type": "execute_result",
          "data": {
            "text/plain": [
              "array([3.3, 6.7, 6.9, 4. , 6.7, 3.7, 4.8, 5.1, 4.5, 1.3, 5.6, 3.9, 4.5,\n",
              "       1.5, 5.1])"
            ]
          },
          "metadata": {
            "tags": []
          },
          "execution_count": 60
        }
      ]
    },
    {
      "cell_type": "markdown",
      "metadata": {
        "id": "QqLgiOv_uD4W"
      },
      "source": [
        "And the corresponding labels:"
      ]
    },
    {
      "cell_type": "code",
      "metadata": {
        "colab": {
          "base_uri": "https://localhost:8080/"
        },
        "id": "d_Kt-dlYuGDs",
        "outputId": "3056bcfd-14b8-47a6-d1b2-bba42f110608"
      },
      "source": [
        "petal_width"
      ],
      "execution_count": 61,
      "outputs": [
        {
          "output_type": "execute_result",
          "data": {
            "text/plain": [
              "array([1. , 2. , 2.3, 1.3, 2.2, 1. , 1.8, 1.9, 1.5, 0.4, 1.8, 1.2, 1.5,\n",
              "       0.4, 1.6])"
            ]
          },
          "metadata": {
            "tags": []
          },
          "execution_count": 61
        }
      ]
    },
    {
      "cell_type": "markdown",
      "metadata": {
        "id": "zEXk5dIwuIc1"
      },
      "source": [
        "While the above format is more convenient for most machine learning tasks, we can also print the data points in the form $(x_i, y_i)$, where $x_i$ is the feature (petal length) and $y_i$ is the label (petal width) of observation $i$. For a single observation $i$, we could do it like this:"
      ]
    },
    {
      "cell_type": "code",
      "metadata": {
        "colab": {
          "base_uri": "https://localhost:8080/"
        },
        "id": "0aTBxBgtvv7G",
        "outputId": "d468cb9e-2dcf-48fc-f662-092b66461390"
      },
      "source": [
        "i = 0\n",
        "petal_length[i], petal_width[i]"
      ],
      "execution_count": 65,
      "outputs": [
        {
          "output_type": "execute_result",
          "data": {
            "text/plain": [
              "(3.3, 1.0)"
            ]
          },
          "metadata": {
            "tags": []
          },
          "execution_count": 65
        }
      ]
    },
    {
      "cell_type": "markdown",
      "metadata": {
        "id": "VBTEMJasv4no"
      },
      "source": [
        "Or we could print all the data points in this way at the same time:\n",
        "\n"
      ]
    },
    {
      "cell_type": "code",
      "metadata": {
        "id": "c-fUZSvbuh72"
      },
      "source": [
        "list(zip(petal_length, petal_width))"
      ],
      "execution_count": null,
      "outputs": []
    },
    {
      "cell_type": "markdown",
      "metadata": {
        "id": "9QhOX7hQupXt"
      },
      "source": [
        "Finally, the most convenient way to explore a dataset is, of course, to visualise it!\n",
        "\n",
        "In this notebook, we can use the magic  `plot_iris_dataset()` method:"
      ]
    },
    {
      "cell_type": "code",
      "metadata": {
        "colab": {
          "base_uri": "https://localhost:8080/",
          "height": 279
        },
        "id": "kBoHhSSFZeC2",
        "outputId": "01c505b4-1603-4b30-87df-b5ef62ddcdc3"
      },
      "source": [
        "plot_iris_dataset()"
      ],
      "execution_count": 64,
      "outputs": [
        {
          "output_type": "display_data",
          "data": {
            "image/png": "[encoded data removed]",
            "text/plain": [
              "<Figure size 432x288 with 1 Axes>"
            ]
          },
          "metadata": {
            "tags": [],
            "needs_background": "light"
          }
        }
      ]
    },
    {
      "cell_type": "markdown",
      "metadata": {
        "id": "1HdgNHBHwPuv"
      },
      "source": [
        "# Fitting a simple linear model\n",
        "\n",
        "Recall that our model is of the form \n",
        "\n",
        "$$y = ax + b$$\n",
        "\n",
        "or, in our case of the iris dataset,\n",
        "\n",
        "$$\\text{petal_width} = a \\cdot \\text{petal_length} + b$$\n",
        "\n",
        "for some unknown $a$ and $b$. Our goal today will be to find the best line (parameterised by $a$ and $b$) which fits our dataset the best.\n",
        "\n",
        "## Task 1: experimenting with lines\n",
        "\n",
        "First, let's experiment with some possible values for $a$ and $b$. You can try out some lines using another magic plotting function, and setting different values for `a` and `b`.\n",
        "\n",
        "*Can you find a line that best matches the data?*\n",
        "\n"
      ]
    },
    {
      "cell_type": "code",
      "metadata": {
        "colab": {
          "base_uri": "https://localhost:8080/",
          "height": 279
        },
        "id": "S7K74g0UxpSd",
        "outputId": "41d429d1-f4ea-4352-d30b-885edf30e67b"
      },
      "source": [
        "a = 0.1\n",
        "b = 0\n",
        "plot_iris_dataset_with_line(a, b)"
      ],
      "execution_count": 81,
      "outputs": [
        {
          "output_type": "display_data",
          "data": {
            "image/png": "[encoded data removed]",
            "text/plain": [
              "<Figure size 432x288 with 1 Axes>"
            ]
          },
          "metadata": {
            "tags": [],
            "needs_background": "light"
          }
        }
      ]
    },
    {
      "cell_type": "markdown",
      "metadata": {
        "id": "cwWM8J_Y1ZCa"
      },
      "source": [
        "# Quantifying the residuals\n",
        "\n",
        "How could you tell whether one line you tried was better than another? It is likely you used some notion of \"closeness\" of the line you estimated to the data points. For example, this line:\n",
        "\n",
        "![](https://raw.githubusercontent.com/kamilest/oxwocs-girls-who-ml-2021/main/images/bad_line.jpeg)\n",
        "\n",
        "probably looks worse than this line:\n",
        "\n",
        "![](https://raw.githubusercontent.com/kamilest/oxwocs-girls-who-ml-2021/main/images/better_line.jpeg)\n",
        "\n",
        "Can we quantify this error? The answer is yes, and we will do this using *residuals*. \n",
        "\n",
        "The residual is nothing but the *difference* between the value predicted by the model, $\\hat{y}_i$, and the ground truth value $y_i$ for some observation $i$. For the data points in the iris dataset, we can visualise the residuals (the differences between the petal widths predicted by the line and the petal widths in the dataset) as follows:\n",
        "\n",
        "\n",
        "\n",
        "\n"
      ]
    },
    {
      "cell_type": "code",
      "metadata": {
        "colab": {
          "base_uri": "https://localhost:8080/",
          "height": 279
        },
        "id": "e7sfAc_O5YpC",
        "outputId": "8908014f-81bf-4712-f836-09e7bb42a549"
      },
      "source": [
        "plot_iris_dataset_with_line(a=0.1, b=0, residuals=True)"
      ],
      "execution_count": 82,
      "outputs": [
        {
          "output_type": "display_data",
          "data": {
            "image/png": "[encoded data removed]",
            "text/plain": [
              "<Figure size 432x288 with 1 Axes>"
            ]
          },
          "metadata": {
            "tags": [],
            "needs_background": "light"
          }
        }
      ]
    },
    {
      "cell_type": "markdown",
      "metadata": {
        "id": "HKWRUHuj5la_"
      },
      "source": [
        "where the residuals are shown with the red lines. You can see that the total length of the red lines above is larger than in the following plot:"
      ]
    },
    {
      "cell_type": "code",
      "metadata": {
        "colab": {
          "base_uri": "https://localhost:8080/",
          "height": 279
        },
        "id": "2v1bSweA1Xqa",
        "outputId": "9f09d490-0257-4a0b-fd5d-2f95919b9f79"
      },
      "source": [
        "plot_iris_dataset_with_line(a=0.4, b=-0.2, residuals=True)"
      ],
      "execution_count": 83,
      "outputs": [
        {
          "output_type": "display_data",
          "data": {
            "image/png": "[encoded data removed]",
            "text/plain": [
              "<Figure size 432x288 with 1 Axes>"
            ]
          },
          "metadata": {
            "tags": [],
            "needs_background": "light"
          }
        }
      ]
    },
    {
      "cell_type": "markdown",
      "metadata": {
        "id": "zoZ3z7XA563X"
      },
      "source": [
        "However, since we normally do not care about whether the error comes from the point being above or below the line, and for the penalty to scale faster for very large distances, we will square the value of the residual:\n",
        "\n",
        "$$ (\\hat{y}_i - y_i)^2$$\n",
        "\n",
        "and, to account for all the information in the dataset, we will compute the average of the squared residuals for all points:\n",
        "\n",
        "$$ \\frac{1}{N} \\sum_{i=1}^N (\\hat{y}_i - y_i)^2$$\n",
        "\n",
        "which is, in fact, one of the most popular *loss functions*, or *performance measures*, in machine learning called the *mean squared error* (MSE).\n",
        "\n",
        "## Task 2: computing MSE\n",
        "\n",
        "The second task will ask you to write a function to compute the mean squared error of a given line for the iris dataset.\n",
        "\n",
        "Recall that $\\hat{y}_i$ is the prediction of the model $\\hat{y}_i = a x_i + b$, where $x_i$ denotes the *petal length*, $y_i$ denotes the *petal width*, and all $x_i$ and $y_i$ can be accessed through `petal_length[i]` and `petal_width[i]` respectively.\n",
        "\n",
        "The final expression for the mean squared error is therefore\n",
        "\n",
        "$$ \\frac{1}{N} \\sum_{i=1}^N (a x_i + b - y_i)^2$$\n"
      ]
    },
    {
      "cell_type": "code",
      "metadata": {
        "id": "8e5j7bQi8rKW"
      },
      "source": [
        "def mean_squared_error(a, b):\n",
        "  # TODO: write some code here\n",
        "  mse = None\n",
        "\n",
        "  return mse"
      ],
      "execution_count": 89,
      "outputs": []
    },
    {
      "cell_type": "markdown",
      "metadata": {
        "id": "CzH6vsO8-DG4"
      },
      "source": [
        "Verify that your answer is correct by checking that\n",
        "\n",
        "`mean_squared_error(0.1, 0)` returns around 21.466 and\n",
        "\n",
        "`mean_squared_error(0.4, -0.2)` returns around 18.959."
      ]
    },
    {
      "cell_type": "markdown",
      "metadata": {
        "id": "OfVUbOPUkYY9"
      },
      "source": [
        "`sklearn` linear regression"
      ]
    },
    {
      "cell_type": "code",
      "metadata": {
        "colab": {
          "base_uri": "https://localhost:8080/"
        },
        "id": "Y0qY_hxZcdTw",
        "outputId": "316621a5-872e-4b8f-833b-625b621814d0"
      },
      "source": [
        "from sklearn.linear_model import LinearRegression\n",
        "\n",
        "reg = LinearRegression().fit(X=iris_data.data.reshape(-1, 1), y=iris_data.target)\n",
        "print(\"Coefficient: {}, intercept: {}\".format(reg.coef_[0], reg.intercept_))"
      ],
      "execution_count": 8,
      "outputs": [
        {
          "output_type": "stream",
          "text": [
            "Coefficient: 0.3397874212984903, intercept: -0.07130864531852943\n"
          ],
          "name": "stdout"
        }
      ]
    },
    {
      "cell_type": "code",
      "metadata": {
        "colab": {
          "base_uri": "https://localhost:8080/",
          "height": 279
        },
        "id": "s4q8asdVlMgC",
        "outputId": "9178a7ff-c659-4f87-da3b-59329a634be5"
      },
      "source": [
        "plot_iris_dataset(model=reg)"
      ],
      "execution_count": 12,
      "outputs": [
        {
          "output_type": "display_data",
          "data": {
            "image/png": "[encoded data removed]",
            "text/plain": [
              "<Figure size 432x288 with 1 Axes>"
            ]
          },
          "metadata": {
            "tags": [],
            "needs_background": "light"
          }
        }
      ]
    },
    {
      "cell_type": "markdown",
      "metadata": {
        "id": "Quxg4iKNr_M7"
      },
      "source": [
        "Residuals"
      ]
    },
    {
      "cell_type": "code",
      "metadata": {
        "colab": {
          "base_uri": "https://localhost:8080/",
          "height": 279
        },
        "id": "32TI1YqwsBNs",
        "outputId": "3dd3fe19-5c25-4153-ee33-f17686f06fc4"
      },
      "source": [
        "plot_iris_dataset(model=reg, residuals=True)"
      ],
      "execution_count": 18,
      "outputs": [
        {
          "output_type": "display_data",
          "data": {
            "image/png": "[encoded data removed]",
            "text/plain": [
              "<Figure size 432x288 with 1 Axes>"
            ]
          },
          "metadata": {
            "tags": [],
            "needs_background": "light"
          }
        }
      ]
    },
    {
      "cell_type": "markdown",
      "metadata": {
        "id": "jHnmdIm_tyOC"
      },
      "source": [
        "Residuals for a different slope"
      ]
    },
    {
      "cell_type": "code",
      "metadata": {
        "colab": {
          "base_uri": "https://localhost:8080/",
          "height": 279
        },
        "id": "LXHu1cbKtxzP",
        "outputId": "9f7e2a31-9291-4c47-8059-8624bf3c91fe"
      },
      "source": [
        "plot_iris_dataset(a=0.15, b=0.5, residuals=True)"
      ],
      "execution_count": 24,
      "outputs": [
        {
          "output_type": "display_data",
          "data": {
            "image/png": "[encoded data removed]",
            "text/plain": [
              "<Figure size 432x288 with 1 Axes>"
            ]
          },
          "metadata": {
            "tags": [],
            "needs_background": "light"
          }
        }
      ]
    },
    {
      "cell_type": "code",
      "metadata": {
        "colab": {
          "base_uri": "https://localhost:8080/"
        },
        "id": "dqioU5dMV45D",
        "outputId": "1e3d176f-5fd8-48e3-d979-f409b3a4f105"
      },
      "source": [
        "next(zip(aa, bb))"
      ],
      "execution_count": 34,
      "outputs": [
        {
          "output_type": "execute_result",
          "data": {
            "text/plain": [
              "(0.15, 0.7)"
            ]
          },
          "metadata": {
            "tags": []
          },
          "execution_count": 34
        }
      ]
    },
    {
      "cell_type": "code",
      "metadata": {
        "colab": {
          "base_uri": "https://localhost:8080/",
          "height": 279
        },
        "id": "hURe0IhqVMwF",
        "outputId": "41b4816f-f58d-4ae2-d7dd-3a8b355fd40c"
      },
      "source": [
        "plt.scatter(iris_data.data, iris_data.target, zorder=0)\n",
        "  \n",
        "x = np.linspace(0, 8, 100).reshape(-1, 1)\n",
        "aa = [0.15, 0.25, 0.3397874212984903]\n",
        "bb = [0.6, 0.25, -0.07130864531852943]\n",
        "cc = ['green', 'orange', 'purple']\n",
        "\n",
        "for (a, b, c) in zip(aa, bb, cc):\n",
        "  plt.plot(x, a * x + b, c=c, zorder=0)\n",
        "\n",
        "plt.xlabel(\"petal length (cm)\")\n",
        "plt.ylabel(\"petal width (cm)\")\n",
        "plt.xlim([-0.25, 8.25])\n",
        "plt.ylim([-0.25, 2.75])\n",
        "\n",
        "plt.savefig('difflines.png', dpi=600)\n",
        "\n",
        "plt.show()"
      ],
      "execution_count": 55,
      "outputs": [
        {
          "output_type": "display_data",
          "data": {
            "image/png": "[encoded data removed]",
            "text/plain": [
              "<Figure size 432x288 with 1 Axes>"
            ]
          },
          "metadata": {
            "tags": [],
            "needs_background": "light"
          }
        }
      ]
    },
    {
      "cell_type": "markdown",
      "metadata": {
        "id": "1AcihReFcgPO"
      },
      "source": [
        "# Gradient descent"
      ]
    },
    {
      "cell_type": "code",
      "metadata": {
        "colab": {
          "base_uri": "https://localhost:8080/",
          "height": 568
        },
        "id": "yR1FEmhS1JOe",
        "outputId": "dcae1d8f-5a01-4f95-aa89-0c1adaaa2e7f"
      },
      "source": [
        "import numpy as np\n",
        "import matplotlib.pyplot as plt\n",
        "from IPython import display\n",
        "\n",
        "\n",
        "\n",
        "plt.ion()\n",
        "fig = plt.figure()\n",
        "ax1 = fig.add_subplot(121)\n",
        "ax2 = fig.add_subplot(122)\n",
        "\n",
        "\n",
        "def generate_data(num_samples, x_lower_lim=-10, x_upper_lim=10):\n",
        "    \"\"\"\n",
        "    @param num_samples number of samples to generate.\n",
        "    @x_lower_lim lower limit for x\n",
        "    @x_upper_lim upper limit for x\n",
        "    This function generates the ground truth data.\n",
        "    In real life we do not know the function below,\n",
        "    but we will try and approximate it using MLE or MAP.\n",
        "    \"\"\"\n",
        "    x = np.linspace(x_lower_lim, x_upper_lim, num_samples)\n",
        "    y = 3 * x + 2 \n",
        "    w = 4 * np.random.randn(num_samples) + 0\n",
        "    y = y + w\n",
        "    return x, y\n",
        "\n",
        "\n",
        "\n",
        "class LinearRegression():\n",
        "    def __init__(self, init_a, init_b):\n",
        "        \"\"\"\n",
        "        This function is called initially, allowing us\n",
        "        to set member variables for the class.\n",
        "        @param init_a initiliasation for a\n",
        "        @param init_b initiliasation for b\n",
        "        \"\"\"\n",
        "        self.a = init_a\n",
        "        self.b = init_b\n",
        "\n",
        "    def _calc_gradient_at_x(self, x, y):\n",
        "        \"\"\"\n",
        "        Calculates the gradients of the loss function\n",
        "        wrt to the parameters at position x.\n",
        "        \"\"\"\n",
        "        # y_pred = self.a * x + self.b        \n",
        "        # grad_a = -2 * (x * (y - y_pred)).mean()\n",
        "        # grad_b = -2 * (y - y_pred).mean()\n",
        "        # return grad_a, grad_b\n",
        "\n",
        "    def step(self, lr, x, y):\n",
        "        \"\"\"\n",
        "        Updates the parameters.\n",
        "        \"\"\"\n",
        "        # grad_a, grad_b = self._calc_gradient_at_x(x, y)\n",
        "        # self.a = self.a - lr * grad_a\n",
        "        # self.b = self.b - lr * grad_b\n",
        "\n",
        "    def calc_loss(self, x, y):\n",
        "        \"\"\"\n",
        "        Calculates the loss.\n",
        "        \"\"\"\n",
        "        # return ((y - self.a * x - self.b)**2).mean()\n",
        "\n",
        "    def set_up_vis(self, num_steps, x):\n",
        "        self.losses = []\n",
        "        self.steps = []\n",
        "        self.pred_line, = ax1.plot(x, self.a * x + self.b, 'b-')\n",
        "        ax2.plot(self.steps, self.losses, 'b-')\n",
        "        ax2.set_xlim([0, num_steps])\n",
        "        ax2.set_ylim([0, self.calc_loss(x, y)])\n",
        "\n",
        "    def update_vis(self, x, y, step):\n",
        "        self.losses.append(self.calc_loss(x, y))\n",
        "        self.steps.append(step)\n",
        "        del ax2.lines[-1]\n",
        "        ax2.plot(self.steps, self.losses, 'b-')\n",
        "        self.pred_line.set_ydata(self.a * x + self.b)\n",
        "        fig.canvas.draw()\n",
        "        fig.canvas.flush_events()\n",
        "        display.clear_output(wait=True)\n",
        "        display.display(plt.gcf())\n",
        "\n",
        "\n",
        "    def train(self, num_steps, lr, x, y):\n",
        "        \"\"\"\n",
        "        Training loop\n",
        "        \"\"\"\n",
        "        self.set_up_vis(num_steps, x)\n",
        "        for i in range(int(num_steps)):\n",
        "            self.step(lr, x, y)\n",
        "            self.update_vis(x, y, i)\n",
        "            \n",
        "\n",
        "\n",
        "x, y = generate_data(100)\n",
        "ax1.scatter(x, y)\n",
        "ax1.set_title(\"Visualisation\")\n",
        "ax2.set_title(\"Loss\")\n",
        "\n",
        "\n",
        "linear_regression = LinearRegression(0, 0)\n",
        "\n",
        "grads = linear_regression.train(50, 1e-3, x, y)\n",
        "print(linear_regression.a, linear_regression.b)\n"
      ],
      "execution_count": null,
      "outputs": [
        {
          "output_type": "display_data",
          "data": {
            "image/png": "[encoded data removed]",
            "text/plain": [
              "<Figure size 432x288 with 2 Axes>"
            ]
          },
          "metadata": {
            "tags": []
          }
        },
        {
          "output_type": "stream",
          "text": [
            "2.8910643607910256 0.2580041932818179\n"
          ],
          "name": "stdout"
        },
        {
          "output_type": "display_data",
          "data": {
            "image/png": "[encoded data removed]",
            "text/plain": [
              "<Figure size 432x288 with 2 Axes>"
            ]
          },
          "metadata": {
            "tags": [],
            "needs_background": "light"
          }
        }
      ]
    }
  ]
}