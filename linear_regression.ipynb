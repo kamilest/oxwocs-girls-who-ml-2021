{
  "nbformat": 4,
  "nbformat_minor": 0,
  "metadata": {
    "colab": {
      "name": "linear_regression.ipynb",
      "provenance": [],
      "collapsed_sections": [],
      "toc_visible": true,
      "include_colab_link": true
    },
    "kernelspec": {
      "name": "python3",
      "display_name": "Python 3"
    }
  },
  "cells": [
    {
      "cell_type": "markdown",
      "metadata": {
        "id": "view-in-github",
        "colab_type": "text"
      },
      "source": [
        "<a href=\"https://colab.research.google.com/github/kamilest/oxwocs-girls-who-ml-2021/blob/main/linear_regression.ipynb\" target=\"_parent\"><img src=\"https://colab.research.google.com/assets/colab-badge.svg\" alt=\"Open In Colab\"/></a>"
      ]
    },
    {
      "cell_type": "markdown",
      "metadata": {
        "id": "-RpYGnqwYUv2"
      },
      "source": [
        "# Girls Who ML Session 1: Linear regression"
      ]
    },
    {
      "cell_type": "code",
      "metadata": {
        "id": "0wg1F8fGFnJO"
      },
      "source": [
        "import numpy as np\n",
        "import pandas as pd\n",
        "import sklearn \n",
        "\n",
        "import matplotlib.pyplot as plt"
      ],
      "execution_count": 3,
      "outputs": []
    },
    {
      "cell_type": "code",
      "metadata": {
        "id": "jWbYWatzQf5X",
        "cellView": "code"
      },
      "source": [
        "#@title Helper functions\n",
        "\n",
        "from sklearn.utils import Bunch\n",
        "from sklearn.datasets import load_iris\n",
        "\n",
        "dataset = load_iris()\n",
        "sample = [ 57, 122, 118,  53, 117,  81,  70, 142,  84,  16, 103,  82,  66, 31,  83]\n",
        "test_sample = [89, 20, 72, 67, 12]\n",
        "\n",
        "petal_length = np.take(dataset.data[:, 2], sample)\n",
        "petal_width = np.take(dataset.data[:, 3], sample)\n",
        "iris_data = Bunch(data=petal_length, target=petal_width)\n",
        "\n",
        "test_petal_length = np.take(dataset.data[:, 2], test_sample)\n",
        "test_petal_width = np.take(dataset.data[:, 3], test_sample)\n",
        "\n",
        "def plot_iris_dataset(a=None, b=None, model=None, residuals=False, test=False, savefig=False, figname=None):\n",
        "  if test:\n",
        "    plt.scatter(iris_data.data, iris_data.target, alpha=0.2, zorder=0)\n",
        "    plt.scatter(test_petal_length, test_petal_width, c='red', zorder=0)\n",
        "  else:\n",
        "    plt.scatter(iris_data.data, iris_data.target, zorder=0)\n",
        "  \n",
        "  x = np.linspace(0, 8, 100).reshape(-1, 1)\n",
        "  if model:\n",
        "    plt.plot(x, model.predict(x), c='orange', zorder=0)\n",
        "  elif a is not None and b is not None:\n",
        "    plt.plot(x, a * x + b, c='orange', zorder=0)\n",
        "\n",
        "  \n",
        "  if residuals:\n",
        "    if test:\n",
        "      X = test_petal_length.reshape(-1, 1)\n",
        "      y = test_petal_width\n",
        "    else:\n",
        "      X = iris_data.data.reshape(-1, 1)\n",
        "      y = iris_data.target\n",
        "    if model:\n",
        "      y_pred = model.predict(X)\n",
        "    elif a is not None and b is not None:\n",
        "      y_pred = a * X + b\n",
        "    plt.vlines(X, y, y_pred, colors='red', zorder=1)\n",
        "  \n",
        "  plt.xlabel(\"petal length (cm)\")\n",
        "  plt.ylabel(\"petal width (cm)\")\n",
        "  plt.xlim([-0.25, 8.25])\n",
        "  plt.ylim([-0.25, 2.75])\n",
        "\n",
        "  if savefig:\n",
        "    plt.savefig('{}.jpeg'.format(figname if figname else 'figure'), dpi=600)\n",
        "\n",
        "  plt.show()\n",
        "\n",
        "def plot_iris_dataset_with_line(a, b, residuals=False, test=True):\n",
        "  plot_iris_dataset(a=a, b=b, residuals=residuals, test=test)"
      ],
      "execution_count": 22,
      "outputs": []
    },
    {
      "cell_type": "markdown",
      "metadata": {
        "id": "Dq70_ID_jCBq"
      },
      "source": [
        "# Introduction\n",
        "\n",
        "In the first class we will be learning about one of the simplest (yet still one of the most important) machine learning algorithms called *linear regression*, which is used for *linear models*.\n",
        "\n",
        "## Simple linear model\n",
        "\n",
        "In a linear model, we assume that the *labels* we want to predict can be obtained through a *linear transformation* of the *features*.\n",
        "\n",
        "When we have only one feature, the linear model reduces to the equation of a line, which we are all familiar with:\n",
        "\n",
        "$$y = ax + b$$\n",
        "\n",
        "Here the feature is denoted by $x$, the label by $y$, and $(a, b)$ are the *parameters* of the model.\n",
        "\n",
        "The goal of the *linear regression* method, then, is to obtain the coefficients $(a, b)$ that best model the data (our features and labels). We explore how this is done in detail through an example below.\n",
        "\n",
        "*Aside*. When reading machine learning literature you may encounter alternative terms for features and labels. Features may also be referred to as covariates, predictor variables, or independent variables. Labels are also known as targets, response variables, or dependent variables. They all have the same meaning though!"
      ]
    },
    {
      "cell_type": "markdown",
      "metadata": {
        "id": "U_l1SNmKjJkB"
      },
      "source": [
        "# The dataset\n",
        "\n",
        "We will be using a subset of the [iris dataset](https://en.wikipedia.org/wiki/Iris_flower_data_set) with just 15 points, predicting the petal width from petal length of iris flowers.\n",
        "\n",
        "Here is some code to load the dataset—we extract the petal widths into an array called `petal_width` and petal lengths into `petal_length` (don't worry about the details of the remaining code). "
      ]
    },
    {
      "cell_type": "code",
      "metadata": {
        "id": "WXxdH17IZCDY"
      },
      "source": [
        "from sklearn.utils import Bunch\n",
        "from sklearn.datasets import load_iris\n",
        "\n",
        "dataset = load_iris()\n",
        "# A list of examples we want to select from the iris dataset for demonstration purposes.\n",
        "sample = [ 57, 122, 118,  53, 117,  81,  70, 142,  84,  16, 103,  82,  66, 31,  83]\n",
        "\n",
        "# np.take selects specific examples from the array representing the full dataset.\n",
        "petal_length = np.take(dataset.data[:, 2], sample)\n",
        "petal_width = np.take(dataset.data[:, 3], sample)\n",
        "iris_data = Bunch(data=petal_length, target=petal_width)"
      ],
      "execution_count": 5,
      "outputs": []
    },
    {
      "cell_type": "markdown",
      "metadata": {
        "id": "x67WSvQ4pwGN"
      },
      "source": [
        "We can print the values of our feature variable for all data points. Out feature variable is the `petal_length`."
      ]
    },
    {
      "cell_type": "code",
      "metadata": {
        "colab": {
          "base_uri": "https://localhost:8080/"
        },
        "id": "WwEJyDH0t4VA",
        "outputId": "52cce1a7-0e62-474e-d7e6-e52970388abb"
      },
      "source": [
        "petal_length"
      ],
      "execution_count": null,
      "outputs": [
        {
          "output_type": "execute_result",
          "data": {
            "text/plain": [
              "array([3.3, 6.7, 6.9, 4. , 6.7, 3.7, 4.8, 5.1, 4.5, 1.3, 5.6, 3.9, 4.5,\n",
              "       1.5, 5.1])"
            ]
          },
          "metadata": {
            "tags": []
          },
          "execution_count": 60
        }
      ]
    },
    {
      "cell_type": "markdown",
      "metadata": {
        "id": "QqLgiOv_uD4W"
      },
      "source": [
        "And the corresponding labels, in our case `petal_width`:"
      ]
    },
    {
      "cell_type": "code",
      "metadata": {
        "colab": {
          "base_uri": "https://localhost:8080/"
        },
        "id": "d_Kt-dlYuGDs",
        "outputId": "3056bcfd-14b8-47a6-d1b2-bba42f110608"
      },
      "source": [
        "petal_width"
      ],
      "execution_count": null,
      "outputs": [
        {
          "output_type": "execute_result",
          "data": {
            "text/plain": [
              "array([1. , 2. , 2.3, 1.3, 2.2, 1. , 1.8, 1.9, 1.5, 0.4, 1.8, 1.2, 1.5,\n",
              "       0.4, 1.6])"
            ]
          },
          "metadata": {
            "tags": []
          },
          "execution_count": 61
        }
      ]
    },
    {
      "cell_type": "markdown",
      "metadata": {
        "id": "zEXk5dIwuIc1"
      },
      "source": [
        "While the above format is more convenient for most machine learning tasks, we can also print the data points in the form $(x_i, y_i)$, where $x_i$ is the feature (petal length) and $y_i$ is the label (petal width) for observation $i$. For a single observation, we could do it like this:"
      ]
    },
    {
      "cell_type": "code",
      "metadata": {
        "colab": {
          "base_uri": "https://localhost:8080/"
        },
        "id": "0aTBxBgtvv7G",
        "outputId": "d468cb9e-2dcf-48fc-f662-092b66461390"
      },
      "source": [
        "i = 0\n",
        "petal_length[i], petal_width[i]"
      ],
      "execution_count": null,
      "outputs": [
        {
          "output_type": "execute_result",
          "data": {
            "text/plain": [
              "(3.3, 1.0)"
            ]
          },
          "metadata": {
            "tags": []
          },
          "execution_count": 65
        }
      ]
    },
    {
      "cell_type": "markdown",
      "metadata": {
        "id": "VBTEMJasv4no"
      },
      "source": [
        "Or we could print all the data points in this way at the same time:\n",
        "\n"
      ]
    },
    {
      "cell_type": "code",
      "metadata": {
        "id": "c-fUZSvbuh72"
      },
      "source": [
        "list(zip(petal_length, petal_width))"
      ],
      "execution_count": null,
      "outputs": []
    },
    {
      "cell_type": "markdown",
      "metadata": {
        "id": "9QhOX7hQupXt"
      },
      "source": [
        "Finally, the most convenient way to explore a dataset is, of course, to visualise it!\n",
        "\n",
        "In this notebook, we can use the magic  `plot_iris_dataset()` method:"
      ]
    },
    {
      "cell_type": "code",
      "metadata": {
        "colab": {
          "base_uri": "https://localhost:8080/",
          "height": 279
        },
        "id": "kBoHhSSFZeC2",
        "outputId": "01c505b4-1603-4b30-87df-b5ef62ddcdc3"
      },
      "source": [
        "plot_iris_dataset()"
      ],
      "execution_count": null,
      "outputs": [
        {
          "output_type": "display_data",
          "data": {
            "image/png": "[encoded data removed]",
            "text/plain": [
              "<Figure size 432x288 with 1 Axes>"
            ]
          },
          "metadata": {
            "tags": [],
            "needs_background": "light"
          }
        }
      ]
    },
    {
      "cell_type": "markdown",
      "metadata": {
        "id": "1HdgNHBHwPuv"
      },
      "source": [
        "# Fitting a simple linear model\n",
        "\n",
        "Recall that our model is of the form \n",
        "\n",
        "$$y = ax + b$$\n",
        "\n",
        "or, in our case of the iris dataset,\n",
        "\n",
        "$$\\text{petal_width} = a \\cdot \\text{petal_length} + b$$\n",
        "\n",
        "for some unknown $a$ and $b$. Our goal today will be to find the line (parameterised by $a$ and $b$) which fits our dataset the best.\n",
        "\n",
        "## Task 1: experimenting with lines\n",
        "\n",
        "First, let's experiment with some possible values for $a$ and $b$. Try out some lines using another magic plotting function, setting different values for `a` and `b`.\n",
        "\n",
        "*Can you find a line that best matches the data?*\n",
        "\n"
      ]
    },
    {
      "cell_type": "code",
      "metadata": {
        "colab": {
          "base_uri": "https://localhost:8080/",
          "height": 279
        },
        "id": "S7K74g0UxpSd",
        "outputId": "41d429d1-f4ea-4352-d30b-885edf30e67b"
      },
      "source": [
        "a = 0.1\n",
        "b = 0\n",
        "plot_iris_dataset_with_line(a, b)"
      ],
      "execution_count": null,
      "outputs": [
        {
          "output_type": "display_data",
          "data": {
            "image/png": "[encoded data removed]",
            "text/plain": [
              "<Figure size 432x288 with 1 Axes>"
            ]
          },
          "metadata": {
            "tags": [],
            "needs_background": "light"
          }
        }
      ]
    },
    {
      "cell_type": "markdown",
      "metadata": {
        "id": "cwWM8J_Y1ZCa"
      },
      "source": [
        "# Quantifying the residuals\n",
        "\n",
        "How could you tell whether one line you tried was better than another? You probably used some notion of \"closeness\" of the line to the data points. For example, the line\n",
        "\n",
        "![](https://raw.githubusercontent.com/kamilest/oxwocs-girls-who-ml-2021/main/images/bad_line.jpeg)\n",
        "\n",
        "probably looks worse than this other line below.\n",
        "\n",
        "![](https://raw.githubusercontent.com/kamilest/oxwocs-girls-who-ml-2021/main/images/better_line.jpeg)\n",
        "\n",
        "Can we quantify this error? The answer is yes, and we can do this by computing the *residuals*. \n",
        "\n",
        "The *residual* is just the *difference* between the value predicted by the model, $\\hat{y}_i$, and the ground truth value $y_i$ for some observation $i$. For the data points in the iris dataset, we can visualise the residuals (the differences between the petal widths predicted by the line and the petal widths in the dataset) as follows:\n",
        "\n",
        "\n",
        "\n",
        "\n"
      ]
    },
    {
      "cell_type": "code",
      "metadata": {
        "colab": {
          "base_uri": "https://localhost:8080/",
          "height": 279
        },
        "id": "e7sfAc_O5YpC",
        "outputId": "8908014f-81bf-4712-f836-09e7bb42a549"
      },
      "source": [
        "plot_iris_dataset_with_line(a=0.1, b=0, residuals=True)"
      ],
      "execution_count": null,
      "outputs": [
        {
          "output_type": "display_data",
          "data": {
            "image/png": "[encoded data removed]",
            "text/plain": [
              "<Figure size 432x288 with 1 Axes>"
            ]
          },
          "metadata": {
            "tags": [],
            "needs_background": "light"
          }
        }
      ]
    },
    {
      "cell_type": "markdown",
      "metadata": {
        "id": "HKWRUHuj5la_"
      },
      "source": [
        "where the residuals are shown with the red lines. You can see that the total length of the red lines above is larger than that in the following plot:"
      ]
    },
    {
      "cell_type": "code",
      "metadata": {
        "colab": {
          "base_uri": "https://localhost:8080/",
          "height": 279
        },
        "id": "2v1bSweA1Xqa",
        "outputId": "9f09d490-0257-4a0b-fd5d-2f95919b9f79"
      },
      "source": [
        "plot_iris_dataset_with_line(a=0.4, b=-0.2, residuals=True)"
      ],
      "execution_count": null,
      "outputs": [
        {
          "output_type": "display_data",
          "data": {
            "image/png": "[encoded data removed]",
            "text/plain": [
              "<Figure size 432x288 with 1 Axes>"
            ]
          },
          "metadata": {
            "tags": [],
            "needs_background": "light"
          }
        }
      ]
    },
    {
      "cell_type": "markdown",
      "metadata": {
        "id": "zoZ3z7XA563X"
      },
      "source": [
        "However, since we do not really care about whether the residual is above or below the line, and because we want  the penalty to scale faster for very large distances, we square the value of the residual:\n",
        "\n",
        "$$ (\\hat{y}_i - y_i)^2$$\n",
        "\n",
        "To account for all the information in the dataset and not just the single point, we compute the average of the squared residuals for all points:\n",
        "\n",
        "$$ \\frac{1}{N} \\sum_{i=1}^N (\\hat{y}_i - y_i)^2$$\n",
        "\n",
        "which is, in fact, one of the most popular *loss functions*, or *performance measures*, in machine learning called the *mean squared error* (MSE). Our next task will be to compute it."
      ]
    },
    {
      "cell_type": "markdown",
      "metadata": {
        "id": "jOOps6TxDbwR"
      },
      "source": [
        "## Task 2: computing the MSE\n",
        "\n",
        "Recall that $\\hat{y}_i$ is the value predicted by the model $\\hat{y}_i = a x_i + b$, where $x_i$ in our case is the *petal length*, $y_i$ is the *petal width*. \n",
        "\n",
        "The final expression for the mean squared error is therefore\n",
        "\n",
        "$$ \\frac{1}{N} \\sum_{i=1}^N (a x_i + b - y_i)^2$$\n",
        "\n",
        "The second task will ask you to write a function to compute the mean squared error of a given line for the iris dataset.\n",
        "\n",
        "*Hint:* With all $x_i$ stored in `x` and all $y_i$ stored in `y`, the $x_i$ and $y_i$ in the dataset can be accessed through `x[i]` and `y[i]` respectively.\n"
      ]
    },
    {
      "cell_type": "code",
      "metadata": {
        "id": "8e5j7bQi8rKW"
      },
      "source": [
        "def mean_squared_error(a, b, data):\n",
        "  x, y = data\n",
        "\n",
        "  mse = None # TODO: write some code here\n",
        "  \n",
        "  return mse"
      ],
      "execution_count": 35,
      "outputs": []
    },
    {
      "cell_type": "markdown",
      "metadata": {
        "id": "CzH6vsO8-DG4"
      },
      "source": [
        "Verify that your answer is correct by checking that, for `data` consisting of `(petal_length, petal_width)`:"
      ]
    },
    {
      "cell_type": "code",
      "metadata": {
        "id": "kqN7iMRbMcd8"
      },
      "source": [
        "data = (petal_length, petal_width)"
      ],
      "execution_count": null,
      "outputs": []
    },
    {
      "cell_type": "markdown",
      "metadata": {
        "id": "z4d7DgvWMgY7"
      },
      "source": [
        "your code returns:\n",
        "* around 1.184 for `mean_squared_error(0.1, 0, data)` and\n",
        "* around 0.04376 for `mean_squared_error(0.4, -0.2, data)`."
      ]
    },
    {
      "cell_type": "code",
      "metadata": {
        "id": "pHrqswgDBOVW"
      },
      "source": [
        "mean_squared_error(0.1, 0, data)"
      ],
      "execution_count": null,
      "outputs": []
    },
    {
      "cell_type": "code",
      "metadata": {
        "id": "XZT8rF3kM9sW"
      },
      "source": [
        "mean_squared_error(0.4, -0.2, data)"
      ],
      "execution_count": null,
      "outputs": []
    },
    {
      "cell_type": "markdown",
      "metadata": {
        "id": "TI4HUaaaDrIk"
      },
      "source": [
        "# Computing the analytic solution\n",
        "\n",
        "As we discussed in class, the best coefficients $a$ and $b$ that minimise the mean squared error can be found analytically, using a bit of calculus.\n",
        "\n",
        "In particular, we set the *gradient* of the MSE loss function to 0 in order to obtain the *least squares estimate* for $a$ and $b$. For MSE denoted by $\\mathcal{L}(a, b)$, setting \n",
        "\n",
        "$$ \\dfrac{\\partial \\mathcal L }{\\partial a} := 0 $$\n",
        "\n",
        "and \n",
        "\n",
        "$$ \\dfrac{\\partial \\mathcal L }{\\partial b} := 0 $$\n",
        "\n",
        "we obtain the least squares estimate\n",
        "\n",
        "$$ a = \\dfrac{\\sum_i x_i y_i - \\left(\\sum_i x_i\\right)\\left(\\sum_i y_i\\right)/N}{\\sum_i x_i - \\left(\\sum_i x_i\\right)^2}$$\n",
        "&nbsp;\n",
        "$$ b = \\dfrac{\\sum_i y_i}{N} - a \\cdot \\dfrac{\\sum_i x_i}{N}$$\n",
        "\n",
        "Task 3 will ask you to use this solution to compute the least squares estimate for the iris dataset directly.\n"
      ]
    },
    {
      "cell_type": "markdown",
      "metadata": {
        "id": "03vAlPwlBYWy"
      },
      "source": [
        "## Task 3: computing the least squares estimate\n",
        "\n",
        "Use the above expressions for $a$ and $b$ that minimise the MSE to get the least squares coefficients for the iris dataset.\n",
        "* *Hint*: you might find it helpful to first compute the sum terms separately, e.g. compute `sum_xy`, `sum_x`, `sum_y` and use these variables in the expressions for `a` and `b`.\n",
        "\n",
        "Plot the resulting line using the magic function `plot_iris_dataset_with_line(a, b)` (and the residuals if you like). \n",
        "* How does this line fit the data? \n",
        "\n",
        "Compute the MSE for the coefficients you obtained. \n",
        "* How does it compare to the MSE of the lines you tried to find by hand?"
      ]
    },
    {
      "cell_type": "code",
      "metadata": {
        "id": "VTIygp22GaQS"
      },
      "source": [
        "def iris_least_squares_estimate(): \n",
        "  a = None\n",
        "  b = None\n",
        "  # TODO: compute the values for the expressions for a and b in the previous\n",
        "  # section.\n",
        "  \n",
        "  return a, b"
      ],
      "execution_count": null,
      "outputs": []
    },
    {
      "cell_type": "code",
      "metadata": {
        "id": "uG7W9hNkHy6_"
      },
      "source": [
        "# Plotting the resulting line\n",
        "a, b = iris_least_squares_estimate()\n",
        "plot_iris_dataset_with_line(a=a, b=b)"
      ],
      "execution_count": null,
      "outputs": []
    },
    {
      "cell_type": "code",
      "metadata": {
        "id": "jXi3p3RfH_zP"
      },
      "source": [
        "# Computing the MSE of the resulting line\n",
        "mean_squared_error(a, b)"
      ],
      "execution_count": null,
      "outputs": []
    },
    {
      "cell_type": "markdown",
      "metadata": {
        "id": "dYgFYzKiIEqn"
      },
      "source": [
        "Verify your answers: \n",
        "* The MSE for the least squares estimate should be around 0.0139. \n",
        "* Your new line should look like this: \n",
        "\n",
        "![](https://raw.githubusercontent.com/kamilest/oxwocs-girls-who-ml-2021/main/images/iris_fitted.jpeg)"
      ]
    },
    {
      "cell_type": "markdown",
      "metadata": {
        "id": "CVqXRuIC-nOU"
      },
      "source": [
        "# Predicting petal widths for new flowers\n",
        "\n",
        "In the previous sections, we found the coefficients `a` and `b` that best describe the dataset of our 15 observations. However, the main reason we do this estimation is so that we can predict the labels for *new*, unseen observations.\n",
        "\n",
        "To estimate how well our model *generalises* to unseen data, we normally use a *test* dataset. Let's first plot some test values in red, with the original values (our *training dataset*) in lighter shade:"
      ]
    },
    {
      "cell_type": "code",
      "metadata": {
        "colab": {
          "base_uri": "https://localhost:8080/",
          "height": 279
        },
        "id": "a_3C_TIh_sfI",
        "outputId": "2874abe0-c110-4cf4-ce59-f5b82a1d35e6"
      },
      "source": [
        "# Get indices for five test points from the full dataset.\n",
        "test_sample = [89, 20, 72, 67, 12]\n",
        "\n",
        "test_petal_length = np.take(dataset.data[:, 2], test_sample)\n",
        "test_petal_width = np.take(dataset.data[:, 3], test_sample)\n",
        "\n",
        "plot_iris_dataset(test=True, savefig=True, figname='test_data')"
      ],
      "execution_count": 29,
      "outputs": [
        {
          "output_type": "display_data",
          "data": {
            "image/png": "[encoded data removed]",
            "text/plain": [
              "<Figure size 432x288 with 1 Axes>"
            ]
          },
          "metadata": {
            "tags": [],
            "needs_background": "light"
          }
        }
      ]
    },
    {
      "cell_type": "markdown",
      "metadata": {
        "id": "pUoWGykWCRxR"
      },
      "source": [
        "## Task 4a\n",
        "\n",
        "Use one of the magic plotting functions to plot the regression line (which you found the parameters for using the least squares estimate).\n",
        "\n",
        "*Hint:* to include the test dataset you can simply include the argument `test=True` for the function you decide to use.\n",
        "\n",
        "*How does the least squares line fit the new values?*"
      ]
    },
    {
      "cell_type": "code",
      "metadata": {
        "id": "UP1nPEX8Dtzs"
      },
      "source": [
        "# TODO: call a function to plot the regression line for the test dataset."
      ],
      "execution_count": null,
      "outputs": []
    },
    {
      "cell_type": "markdown",
      "metadata": {
        "id": "S-E1y6YZCCuw"
      },
      "source": [
        "You may notice that the line does not exactly fit the new data points. We can print the labels predicted by the model and compare them to the ground truth labels, as well as compute the MSE for the test dataset."
      ]
    },
    {
      "cell_type": "markdown",
      "metadata": {
        "id": "gmN616pzGI47"
      },
      "source": [
        "## Task 4b\n",
        "\n",
        "Predict the labels for the test data points. Most of the code has been filled out for you—you only need to compute the predicted value using the `a` and `b` you estimated earlier."
      ]
    },
    {
      "cell_type": "code",
      "metadata": {
        "id": "4XxQLpkiGW5d"
      },
      "source": [
        "def predict_petal_widths(a, b):\n",
        "  for (x, y_true) in zip(test_petal_length, test_petal_width):\n",
        "    y_predicted = None # TODO: compute the prediction\n",
        "\n",
        "    print('Ground truth: {}\\tPrediction: {}'.format(y_true, y_predicted))"
      ],
      "execution_count": 30,
      "outputs": []
    },
    {
      "cell_type": "code",
      "metadata": {
        "id": "CgU896nqHxy4"
      },
      "source": [
        "predict_petal_widths(a, b)"
      ],
      "execution_count": null,
      "outputs": []
    },
    {
      "cell_type": "markdown",
      "metadata": {
        "id": "cHiweVskIVv5"
      },
      "source": [
        "Verify your code is correct by checking that `predict_petal_widths(a, b)` for your least squares estimate `(a, b)` returns \n",
        "```\n",
        "Ground truth: 1.3\tPrediction: 1.2878410398754319\n",
        "Ground truth: 0.2\tPrediction: 0.5063299708889041\n",
        "Ground truth: 1.5\tPrediction: 1.5936497190440733\n",
        "Ground truth: 1.0\tPrediction: 1.3218197820052808\n",
        "Ground truth: 0.1\tPrediction: 0.404393744499357\n",
        "```\n",
        "\n",
        "We can also compute the test mean squared error. Since the MSE function was conveniently dependent on the data, we can assign the `data` argument to test points to get the test MSE.\n",
        "\n",
        "*Is the test MSE larger than the MSE you computed for the training data?*"
      ]
    },
    {
      "cell_type": "code",
      "metadata": {
        "id": "LBP21jttIVKp"
      },
      "source": [
        "data = (test_petal_length, test_petal_width)\n",
        "mean_squared_error() # TODO: pass the relevant arguments here."
      ],
      "execution_count": null,
      "outputs": []
    },
    {
      "cell_type": "code",
      "metadata": {
        "id": "EhagEfJuM7E0"
      },
      "source": [
        "def mean_squared_error():\n",
        "  return np.mean((test_petal_length * a + b - test_petal_width)**2)"
      ],
      "execution_count": 36,
      "outputs": []
    },
    {
      "cell_type": "markdown",
      "metadata": {
        "id": "we-ndM4vNdK6"
      },
      "source": [
        "Verify that your code is correct by checking that your test MSE is now around 0.0598.\n"
      ]
    },
    {
      "cell_type": "code",
      "metadata": {
        "id": "LCqwayIuNUI-"
      },
      "source": [
        "def mean_squared_error(a=a, b=b):\n",
        "  return np.mean((petal_length * a + b - petal_width) ** 2)"
      ],
      "execution_count": 46,
      "outputs": []
    },
    {
      "cell_type": "code",
      "metadata": {
        "colab": {
          "base_uri": "https://localhost:8080/"
        },
        "id": "boU2G0SpH9wK",
        "outputId": "3a05f4f9-725c-4727-a679-61ad36ecd54c"
      },
      "source": [
        "mean_squared_error()"
      ],
      "execution_count": 47,
      "outputs": [
        {
          "output_type": "execute_result",
          "data": {
            "text/plain": [
              "0.013885676889400405"
            ]
          },
          "metadata": {
            "tags": []
          },
          "execution_count": 47
        }
      ]
    },
    {
      "cell_type": "markdown",
      "metadata": {
        "id": "XOxLeC3dTVm8"
      },
      "source": [
        "TODO: to be completed from there on.\n",
        "Possible ideas:\n",
        "\n",
        "1. how to use vectorised operations (because currently the tasks assume the use of for loops)—introduce some vector notation\n",
        "2. how to do linear regression with sklearn"
      ]
    },
    {
      "cell_type": "markdown",
      "metadata": {
        "id": "OfVUbOPUkYY9"
      },
      "source": [
        "# Using machine learning libraries"
      ]
    },
    {
      "cell_type": "markdown",
      "metadata": {
        "id": "3eJGErNM0HPy"
      },
      "source": [
        "Now, it is important to understand how these concepts can be applied and try writing code ourselves. However, we need not reinvent the wheel here. Many of these functions have already been created, optimised and well-documented for us. One popular Python library is called Scikit-learn or 'sklearn'."
      ]
    },
    {
      "cell_type": "markdown",
      "metadata": {
        "id": "-bXh4jjD0-XJ"
      },
      "source": [
        "We're going to take a look at how we can apply linear regression using `sklearn`'s built-in functions:"
      ]
    },
    {
      "cell_type": "code",
      "metadata": {
        "id": "Y0qY_hxZcdTw"
      },
      "source": [
        "from sklearn.linear_model import LinearRegression\n",
        "\n",
        "X = iris_data.data\n",
        "y = iris_data.target\n",
        "\n",
        "reg = LinearRegression().fit(X.reshape(-1, 1), y)"
      ],
      "execution_count": 24,
      "outputs": []
    },
    {
      "cell_type": "markdown",
      "metadata": {
        "id": "hWZbZZtR1tW7"
      },
      "source": [
        "Running the function `fit` returns a linear model that we've called `reg` here. What does `reg` represent exactly?"
      ]
    },
    {
      "cell_type": "markdown",
      "metadata": {
        "id": "wdu1lrWm3Dj5"
      },
      "source": [
        "`reg` is the \"line of best fit\" generated by the `sklearn` version of the linear regression algorithm."
      ]
    },
    {
      "cell_type": "code",
      "metadata": {
        "colab": {
          "base_uri": "https://localhost:8080/",
          "height": 279
        },
        "id": "s4q8asdVlMgC",
        "outputId": "9178a7ff-c659-4f87-da3b-59329a634be5"
      },
      "source": [
        "plot_iris_dataset(model=reg)"
      ],
      "execution_count": null,
      "outputs": [
        {
          "output_type": "display_data",
          "data": {
            "image/png": "[encoded data removed]",
            "text/plain": [
              "<Figure size 432x288 with 1 Axes>"
            ]
          },
          "metadata": {
            "tags": [],
            "needs_background": "light"
          }
        }
      ]
    },
    {
      "cell_type": "markdown",
      "metadata": {
        "id": "Quxg4iKNr_M7"
      },
      "source": [
        "Residuals"
      ]
    },
    {
      "cell_type": "code",
      "metadata": {
        "colab": {
          "base_uri": "https://localhost:8080/",
          "height": 279
        },
        "id": "32TI1YqwsBNs",
        "outputId": "3dd3fe19-5c25-4153-ee33-f17686f06fc4"
      },
      "source": [
        "plot_iris_dataset(model=reg, residuals=True)"
      ],
      "execution_count": null,
      "outputs": [
        {
          "output_type": "display_data",
          "data": {
            "image/png": "[encoded data removed]",
            "text/plain": [
              "<Figure size 432x288 with 1 Axes>"
            ]
          },
          "metadata": {
            "tags": [],
            "needs_background": "light"
          }
        }
      ]
    },
    {
      "cell_type": "markdown",
      "metadata": {
        "id": "jHnmdIm_tyOC"
      },
      "source": [
        "Residuals for a different slope"
      ]
    },
    {
      "cell_type": "markdown",
      "metadata": {
        "id": "2vDNNSRo3rS3"
      },
      "source": [
        " If we recall the formal representation of a model being 𝑦 = 𝑎𝑥+𝑏. We can extract the values for a and b:"
      ]
    },
    {
      "cell_type": "code",
      "metadata": {
        "id": "uqzMre691kpO",
        "colab": {
          "base_uri": "https://localhost:8080/"
        },
        "outputId": "5c938552-ecf7-4220-fb2a-024173777a0d"
      },
      "source": [
        "a = reg.coef_[0]\n",
        "b = reg.intercept_\n",
        "print(\"Coefficient: {}, intercept: {}\".format(a, b))"
      ],
      "execution_count": 25,
      "outputs": [
        {
          "output_type": "stream",
          "text": [
            "Coefficient: 0.3397874212984903, intercept: -0.07130864531852943\n"
          ],
          "name": "stdout"
        }
      ]
    },
    {
      "cell_type": "markdown",
      "metadata": {
        "id": "GegrH_s02d0f"
      },
      "source": [
        "TODO: How do we use this model to predict a petal width given a petal length?\n"
      ]
    },
    {
      "cell_type": "markdown",
      "metadata": {
        "id": "1AcihReFcgPO"
      },
      "source": [
        "# Gradient descent"
      ]
    },
    {
      "cell_type": "code",
      "metadata": {
        "colab": {
          "base_uri": "https://localhost:8080/",
          "height": 568
        },
        "id": "yR1FEmhS1JOe",
        "outputId": "dcae1d8f-5a01-4f95-aa89-0c1adaaa2e7f"
      },
      "source": [
        "import numpy as np\n",
        "import matplotlib.pyplot as plt\n",
        "from IPython import display\n",
        "\n",
        "\n",
        "\n",
        "plt.ion()\n",
        "fig = plt.figure()\n",
        "ax1 = fig.add_subplot(121)\n",
        "ax2 = fig.add_subplot(122)\n",
        "\n",
        "\n",
        "def generate_data(num_samples, x_lower_lim=-10, x_upper_lim=10):\n",
        "    \"\"\"\n",
        "    @param num_samples number of samples to generate.\n",
        "    @x_lower_lim lower limit for x\n",
        "    @x_upper_lim upper limit for x\n",
        "    This function generates the ground truth data.\n",
        "    In real life we do not know the function below,\n",
        "    but we will try and approximate it using MLE or MAP.\n",
        "    \"\"\"\n",
        "    x = np.linspace(x_lower_lim, x_upper_lim, num_samples)\n",
        "    y = 3 * x + 2 \n",
        "    w = 4 * np.random.randn(num_samples) + 0\n",
        "    y = y + w\n",
        "    return x, y\n",
        "\n",
        "\n",
        "\n",
        "class LinearRegression():\n",
        "    def __init__(self, init_a, init_b):\n",
        "        \"\"\"\n",
        "        This function is called initially, allowing us\n",
        "        to set member variables for the class.\n",
        "        @param init_a initiliasation for a\n",
        "        @param init_b initiliasation for b\n",
        "        \"\"\"\n",
        "        self.a = init_a\n",
        "        self.b = init_b\n",
        "\n",
        "    def _calc_gradient_at_x(self, x, y):\n",
        "        \"\"\"\n",
        "        Calculates the gradients of the loss function\n",
        "        wrt to the parameters at position x.\n",
        "        \"\"\"\n",
        "        # y_pred = self.a * x + self.b        \n",
        "        # grad_a = -2 * (x * (y - y_pred)).mean()\n",
        "        # grad_b = -2 * (y - y_pred).mean()\n",
        "        # return grad_a, grad_b\n",
        "\n",
        "    def step(self, lr, x, y):\n",
        "        \"\"\"\n",
        "        Updates the parameters.\n",
        "        \"\"\"\n",
        "        # grad_a, grad_b = self._calc_gradient_at_x(x, y)\n",
        "        # self.a = self.a - lr * grad_a\n",
        "        # self.b = self.b - lr * grad_b\n",
        "\n",
        "    def calc_loss(self, x, y):\n",
        "        \"\"\"\n",
        "        Calculates the loss.\n",
        "        \"\"\"\n",
        "        # return ((y - self.a * x - self.b)**2).mean()\n",
        "\n",
        "    def set_up_vis(self, num_steps, x):\n",
        "        self.losses = []\n",
        "        self.steps = []\n",
        "        self.pred_line, = ax1.plot(x, self.a * x + self.b, 'b-')\n",
        "        ax2.plot(self.steps, self.losses, 'b-')\n",
        "        ax2.set_xlim([0, num_steps])\n",
        "        ax2.set_ylim([0, self.calc_loss(x, y)])\n",
        "\n",
        "    def update_vis(self, x, y, step):\n",
        "        self.losses.append(self.calc_loss(x, y))\n",
        "        self.steps.append(step)\n",
        "        del ax2.lines[-1]\n",
        "        ax2.plot(self.steps, self.losses, 'b-')\n",
        "        self.pred_line.set_ydata(self.a * x + self.b)\n",
        "        fig.canvas.draw()\n",
        "        fig.canvas.flush_events()\n",
        "        display.clear_output(wait=True)\n",
        "        display.display(plt.gcf())\n",
        "\n",
        "\n",
        "    def train(self, num_steps, lr, x, y):\n",
        "        \"\"\"\n",
        "        Training loop\n",
        "        \"\"\"\n",
        "        self.set_up_vis(num_steps, x)\n",
        "        for i in range(int(num_steps)):\n",
        "            self.step(lr, x, y)\n",
        "            self.update_vis(x, y, i)\n",
        "            \n",
        "\n",
        "\n",
        "x, y = generate_data(100)\n",
        "ax1.scatter(x, y)\n",
        "ax1.set_title(\"Visualisation\")\n",
        "ax2.set_title(\"Loss\")\n",
        "\n",
        "\n",
        "linear_regression = LinearRegression(0, 0)\n",
        "\n",
        "grads = linear_regression.train(50, 1e-3, x, y)\n",
        "print(linear_regression.a, linear_regression.b)\n"
      ],
      "execution_count": null,
      "outputs": [
        {
          "output_type": "display_data",
          "data": {
            "image/png": "[encoded data removed]",
            "text/plain": [
              "<Figure size 432x288 with 2 Axes>"
            ]
          },
          "metadata": {
            "tags": []
          }
        },
        {
          "output_type": "stream",
          "text": [
            "2.8910643607910256 0.2580041932818179\n"
          ],
          "name": "stdout"
        },
        {
          "output_type": "display_data",
          "data": {
            "image/png": "[encoded data removed]",
            "text/plain": [
              "<Figure size 432x288 with 2 Axes>"
            ]
          },
          "metadata": {
            "tags": [],
            "needs_background": "light"
          }
        }
      ]
    }
  ]
}